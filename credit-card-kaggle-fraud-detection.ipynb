{
 "cells": [
  {
   "cell_type": "markdown",
   "id": "b5a0bc39",
   "metadata": {
    "papermill": {
     "duration": 0.020035,
     "end_time": "2022-03-10T04:45:14.196255",
     "exception": false,
     "start_time": "2022-03-10T04:45:14.176220",
     "status": "completed"
    },
    "tags": []
   },
   "source": [
    "## Credit Card Fraud Detection\n",
    "### using Logistic Regression, a Machine Learning Algorithm"
   ]
  },
  {
   "cell_type": "markdown",
   "id": "221fdb8e",
   "metadata": {
    "papermill": {
     "duration": 0.018723,
     "end_time": "2022-03-10T04:45:14.235240",
     "exception": false,
     "start_time": "2022-03-10T04:45:14.216517",
     "status": "completed"
    },
    "tags": []
   },
   "source": [
    "#### Import Required Libraries"
   ]
  },
  {
   "cell_type": "code",
   "execution_count": 1,
   "id": "0a364dec",
   "metadata": {
    "execution": {
     "iopub.execute_input": "2022-03-10T04:45:14.279212Z",
     "iopub.status.busy": "2022-03-10T04:45:14.277538Z",
     "iopub.status.idle": "2022-03-10T04:45:15.667586Z",
     "shell.execute_reply": "2022-03-10T04:45:15.666779Z",
     "shell.execute_reply.started": "2022-03-10T04:33:20.711897Z"
    },
    "papermill": {
     "duration": 1.413237,
     "end_time": "2022-03-10T04:45:15.667775",
     "exception": false,
     "start_time": "2022-03-10T04:45:14.254538",
     "status": "completed"
    },
    "tags": []
   },
   "outputs": [],
   "source": [
    "import pandas as pd \n",
    "import numpy as np\n",
    "import seaborn as sns\n",
    "import matplotlib\n",
    "import matplotlib.pyplot as plt\n",
    "%matplotlib inline \n",
    "\n",
    "from sklearn.model_selection import train_test_split \n",
    "\n",
    "from sklearn.metrics import classification_report, accuracy_score  \n",
    "from sklearn.metrics import confusion_matrix \n",
    "from sklearn.linear_model import LogisticRegression\n",
    "from sklearn import metrics"
   ]
  },
  {
   "cell_type": "code",
   "execution_count": 2,
   "id": "61c9a604",
   "metadata": {
    "execution": {
     "iopub.execute_input": "2022-03-10T04:45:15.709698Z",
     "iopub.status.busy": "2022-03-10T04:45:15.708770Z",
     "iopub.status.idle": "2022-03-10T04:45:20.088040Z",
     "shell.execute_reply": "2022-03-10T04:45:20.088522Z",
     "shell.execute_reply.started": "2022-03-10T04:33:22.255573Z"
    },
    "papermill": {
     "duration": 4.401797,
     "end_time": "2022-03-10T04:45:20.088757",
     "exception": false,
     "start_time": "2022-03-10T04:45:15.686960",
     "status": "completed"
    },
    "tags": []
   },
   "outputs": [
    {
     "data": {
      "text/html": [
       "<div>\n",
       "<style scoped>\n",
       "    .dataframe tbody tr th:only-of-type {\n",
       "        vertical-align: middle;\n",
       "    }\n",
       "\n",
       "    .dataframe tbody tr th {\n",
       "        vertical-align: top;\n",
       "    }\n",
       "\n",
       "    .dataframe thead th {\n",
       "        text-align: right;\n",
       "    }\n",
       "</style>\n",
       "<table border=\"1\" class=\"dataframe\">\n",
       "  <thead>\n",
       "    <tr style=\"text-align: right;\">\n",
       "      <th></th>\n",
       "      <th>Time</th>\n",
       "      <th>V1</th>\n",
       "      <th>V2</th>\n",
       "      <th>V3</th>\n",
       "      <th>V4</th>\n",
       "      <th>V5</th>\n",
       "      <th>V6</th>\n",
       "      <th>V7</th>\n",
       "      <th>V8</th>\n",
       "      <th>V9</th>\n",
       "      <th>...</th>\n",
       "      <th>V21</th>\n",
       "      <th>V22</th>\n",
       "      <th>V23</th>\n",
       "      <th>V24</th>\n",
       "      <th>V25</th>\n",
       "      <th>V26</th>\n",
       "      <th>V27</th>\n",
       "      <th>V28</th>\n",
       "      <th>Amount</th>\n",
       "      <th>Class</th>\n",
       "    </tr>\n",
       "  </thead>\n",
       "  <tbody>\n",
       "    <tr>\n",
       "      <th>0</th>\n",
       "      <td>0.0</td>\n",
       "      <td>-1.359807</td>\n",
       "      <td>-0.072781</td>\n",
       "      <td>2.536347</td>\n",
       "      <td>1.378155</td>\n",
       "      <td>-0.338321</td>\n",
       "      <td>0.462388</td>\n",
       "      <td>0.239599</td>\n",
       "      <td>0.098698</td>\n",
       "      <td>0.363787</td>\n",
       "      <td>...</td>\n",
       "      <td>-0.018307</td>\n",
       "      <td>0.277838</td>\n",
       "      <td>-0.110474</td>\n",
       "      <td>0.066928</td>\n",
       "      <td>0.128539</td>\n",
       "      <td>-0.189115</td>\n",
       "      <td>0.133558</td>\n",
       "      <td>-0.021053</td>\n",
       "      <td>149.62</td>\n",
       "      <td>0</td>\n",
       "    </tr>\n",
       "    <tr>\n",
       "      <th>1</th>\n",
       "      <td>0.0</td>\n",
       "      <td>1.191857</td>\n",
       "      <td>0.266151</td>\n",
       "      <td>0.166480</td>\n",
       "      <td>0.448154</td>\n",
       "      <td>0.060018</td>\n",
       "      <td>-0.082361</td>\n",
       "      <td>-0.078803</td>\n",
       "      <td>0.085102</td>\n",
       "      <td>-0.255425</td>\n",
       "      <td>...</td>\n",
       "      <td>-0.225775</td>\n",
       "      <td>-0.638672</td>\n",
       "      <td>0.101288</td>\n",
       "      <td>-0.339846</td>\n",
       "      <td>0.167170</td>\n",
       "      <td>0.125895</td>\n",
       "      <td>-0.008983</td>\n",
       "      <td>0.014724</td>\n",
       "      <td>2.69</td>\n",
       "      <td>0</td>\n",
       "    </tr>\n",
       "    <tr>\n",
       "      <th>2</th>\n",
       "      <td>1.0</td>\n",
       "      <td>-1.358354</td>\n",
       "      <td>-1.340163</td>\n",
       "      <td>1.773209</td>\n",
       "      <td>0.379780</td>\n",
       "      <td>-0.503198</td>\n",
       "      <td>1.800499</td>\n",
       "      <td>0.791461</td>\n",
       "      <td>0.247676</td>\n",
       "      <td>-1.514654</td>\n",
       "      <td>...</td>\n",
       "      <td>0.247998</td>\n",
       "      <td>0.771679</td>\n",
       "      <td>0.909412</td>\n",
       "      <td>-0.689281</td>\n",
       "      <td>-0.327642</td>\n",
       "      <td>-0.139097</td>\n",
       "      <td>-0.055353</td>\n",
       "      <td>-0.059752</td>\n",
       "      <td>378.66</td>\n",
       "      <td>0</td>\n",
       "    </tr>\n",
       "    <tr>\n",
       "      <th>3</th>\n",
       "      <td>1.0</td>\n",
       "      <td>-0.966272</td>\n",
       "      <td>-0.185226</td>\n",
       "      <td>1.792993</td>\n",
       "      <td>-0.863291</td>\n",
       "      <td>-0.010309</td>\n",
       "      <td>1.247203</td>\n",
       "      <td>0.237609</td>\n",
       "      <td>0.377436</td>\n",
       "      <td>-1.387024</td>\n",
       "      <td>...</td>\n",
       "      <td>-0.108300</td>\n",
       "      <td>0.005274</td>\n",
       "      <td>-0.190321</td>\n",
       "      <td>-1.175575</td>\n",
       "      <td>0.647376</td>\n",
       "      <td>-0.221929</td>\n",
       "      <td>0.062723</td>\n",
       "      <td>0.061458</td>\n",
       "      <td>123.50</td>\n",
       "      <td>0</td>\n",
       "    </tr>\n",
       "    <tr>\n",
       "      <th>4</th>\n",
       "      <td>2.0</td>\n",
       "      <td>-1.158233</td>\n",
       "      <td>0.877737</td>\n",
       "      <td>1.548718</td>\n",
       "      <td>0.403034</td>\n",
       "      <td>-0.407193</td>\n",
       "      <td>0.095921</td>\n",
       "      <td>0.592941</td>\n",
       "      <td>-0.270533</td>\n",
       "      <td>0.817739</td>\n",
       "      <td>...</td>\n",
       "      <td>-0.009431</td>\n",
       "      <td>0.798278</td>\n",
       "      <td>-0.137458</td>\n",
       "      <td>0.141267</td>\n",
       "      <td>-0.206010</td>\n",
       "      <td>0.502292</td>\n",
       "      <td>0.219422</td>\n",
       "      <td>0.215153</td>\n",
       "      <td>69.99</td>\n",
       "      <td>0</td>\n",
       "    </tr>\n",
       "    <tr>\n",
       "      <th>...</th>\n",
       "      <td>...</td>\n",
       "      <td>...</td>\n",
       "      <td>...</td>\n",
       "      <td>...</td>\n",
       "      <td>...</td>\n",
       "      <td>...</td>\n",
       "      <td>...</td>\n",
       "      <td>...</td>\n",
       "      <td>...</td>\n",
       "      <td>...</td>\n",
       "      <td>...</td>\n",
       "      <td>...</td>\n",
       "      <td>...</td>\n",
       "      <td>...</td>\n",
       "      <td>...</td>\n",
       "      <td>...</td>\n",
       "      <td>...</td>\n",
       "      <td>...</td>\n",
       "      <td>...</td>\n",
       "      <td>...</td>\n",
       "      <td>...</td>\n",
       "    </tr>\n",
       "    <tr>\n",
       "      <th>284802</th>\n",
       "      <td>172786.0</td>\n",
       "      <td>-11.881118</td>\n",
       "      <td>10.071785</td>\n",
       "      <td>-9.834783</td>\n",
       "      <td>-2.066656</td>\n",
       "      <td>-5.364473</td>\n",
       "      <td>-2.606837</td>\n",
       "      <td>-4.918215</td>\n",
       "      <td>7.305334</td>\n",
       "      <td>1.914428</td>\n",
       "      <td>...</td>\n",
       "      <td>0.213454</td>\n",
       "      <td>0.111864</td>\n",
       "      <td>1.014480</td>\n",
       "      <td>-0.509348</td>\n",
       "      <td>1.436807</td>\n",
       "      <td>0.250034</td>\n",
       "      <td>0.943651</td>\n",
       "      <td>0.823731</td>\n",
       "      <td>0.77</td>\n",
       "      <td>0</td>\n",
       "    </tr>\n",
       "    <tr>\n",
       "      <th>284803</th>\n",
       "      <td>172787.0</td>\n",
       "      <td>-0.732789</td>\n",
       "      <td>-0.055080</td>\n",
       "      <td>2.035030</td>\n",
       "      <td>-0.738589</td>\n",
       "      <td>0.868229</td>\n",
       "      <td>1.058415</td>\n",
       "      <td>0.024330</td>\n",
       "      <td>0.294869</td>\n",
       "      <td>0.584800</td>\n",
       "      <td>...</td>\n",
       "      <td>0.214205</td>\n",
       "      <td>0.924384</td>\n",
       "      <td>0.012463</td>\n",
       "      <td>-1.016226</td>\n",
       "      <td>-0.606624</td>\n",
       "      <td>-0.395255</td>\n",
       "      <td>0.068472</td>\n",
       "      <td>-0.053527</td>\n",
       "      <td>24.79</td>\n",
       "      <td>0</td>\n",
       "    </tr>\n",
       "    <tr>\n",
       "      <th>284804</th>\n",
       "      <td>172788.0</td>\n",
       "      <td>1.919565</td>\n",
       "      <td>-0.301254</td>\n",
       "      <td>-3.249640</td>\n",
       "      <td>-0.557828</td>\n",
       "      <td>2.630515</td>\n",
       "      <td>3.031260</td>\n",
       "      <td>-0.296827</td>\n",
       "      <td>0.708417</td>\n",
       "      <td>0.432454</td>\n",
       "      <td>...</td>\n",
       "      <td>0.232045</td>\n",
       "      <td>0.578229</td>\n",
       "      <td>-0.037501</td>\n",
       "      <td>0.640134</td>\n",
       "      <td>0.265745</td>\n",
       "      <td>-0.087371</td>\n",
       "      <td>0.004455</td>\n",
       "      <td>-0.026561</td>\n",
       "      <td>67.88</td>\n",
       "      <td>0</td>\n",
       "    </tr>\n",
       "    <tr>\n",
       "      <th>284805</th>\n",
       "      <td>172788.0</td>\n",
       "      <td>-0.240440</td>\n",
       "      <td>0.530483</td>\n",
       "      <td>0.702510</td>\n",
       "      <td>0.689799</td>\n",
       "      <td>-0.377961</td>\n",
       "      <td>0.623708</td>\n",
       "      <td>-0.686180</td>\n",
       "      <td>0.679145</td>\n",
       "      <td>0.392087</td>\n",
       "      <td>...</td>\n",
       "      <td>0.265245</td>\n",
       "      <td>0.800049</td>\n",
       "      <td>-0.163298</td>\n",
       "      <td>0.123205</td>\n",
       "      <td>-0.569159</td>\n",
       "      <td>0.546668</td>\n",
       "      <td>0.108821</td>\n",
       "      <td>0.104533</td>\n",
       "      <td>10.00</td>\n",
       "      <td>0</td>\n",
       "    </tr>\n",
       "    <tr>\n",
       "      <th>284806</th>\n",
       "      <td>172792.0</td>\n",
       "      <td>-0.533413</td>\n",
       "      <td>-0.189733</td>\n",
       "      <td>0.703337</td>\n",
       "      <td>-0.506271</td>\n",
       "      <td>-0.012546</td>\n",
       "      <td>-0.649617</td>\n",
       "      <td>1.577006</td>\n",
       "      <td>-0.414650</td>\n",
       "      <td>0.486180</td>\n",
       "      <td>...</td>\n",
       "      <td>0.261057</td>\n",
       "      <td>0.643078</td>\n",
       "      <td>0.376777</td>\n",
       "      <td>0.008797</td>\n",
       "      <td>-0.473649</td>\n",
       "      <td>-0.818267</td>\n",
       "      <td>-0.002415</td>\n",
       "      <td>0.013649</td>\n",
       "      <td>217.00</td>\n",
       "      <td>0</td>\n",
       "    </tr>\n",
       "  </tbody>\n",
       "</table>\n",
       "<p>284807 rows × 31 columns</p>\n",
       "</div>"
      ],
      "text/plain": [
       "            Time         V1         V2        V3        V4        V5  \\\n",
       "0            0.0  -1.359807  -0.072781  2.536347  1.378155 -0.338321   \n",
       "1            0.0   1.191857   0.266151  0.166480  0.448154  0.060018   \n",
       "2            1.0  -1.358354  -1.340163  1.773209  0.379780 -0.503198   \n",
       "3            1.0  -0.966272  -0.185226  1.792993 -0.863291 -0.010309   \n",
       "4            2.0  -1.158233   0.877737  1.548718  0.403034 -0.407193   \n",
       "...          ...        ...        ...       ...       ...       ...   \n",
       "284802  172786.0 -11.881118  10.071785 -9.834783 -2.066656 -5.364473   \n",
       "284803  172787.0  -0.732789  -0.055080  2.035030 -0.738589  0.868229   \n",
       "284804  172788.0   1.919565  -0.301254 -3.249640 -0.557828  2.630515   \n",
       "284805  172788.0  -0.240440   0.530483  0.702510  0.689799 -0.377961   \n",
       "284806  172792.0  -0.533413  -0.189733  0.703337 -0.506271 -0.012546   \n",
       "\n",
       "              V6        V7        V8        V9  ...       V21       V22  \\\n",
       "0       0.462388  0.239599  0.098698  0.363787  ... -0.018307  0.277838   \n",
       "1      -0.082361 -0.078803  0.085102 -0.255425  ... -0.225775 -0.638672   \n",
       "2       1.800499  0.791461  0.247676 -1.514654  ...  0.247998  0.771679   \n",
       "3       1.247203  0.237609  0.377436 -1.387024  ... -0.108300  0.005274   \n",
       "4       0.095921  0.592941 -0.270533  0.817739  ... -0.009431  0.798278   \n",
       "...          ...       ...       ...       ...  ...       ...       ...   \n",
       "284802 -2.606837 -4.918215  7.305334  1.914428  ...  0.213454  0.111864   \n",
       "284803  1.058415  0.024330  0.294869  0.584800  ...  0.214205  0.924384   \n",
       "284804  3.031260 -0.296827  0.708417  0.432454  ...  0.232045  0.578229   \n",
       "284805  0.623708 -0.686180  0.679145  0.392087  ...  0.265245  0.800049   \n",
       "284806 -0.649617  1.577006 -0.414650  0.486180  ...  0.261057  0.643078   \n",
       "\n",
       "             V23       V24       V25       V26       V27       V28  Amount  \\\n",
       "0      -0.110474  0.066928  0.128539 -0.189115  0.133558 -0.021053  149.62   \n",
       "1       0.101288 -0.339846  0.167170  0.125895 -0.008983  0.014724    2.69   \n",
       "2       0.909412 -0.689281 -0.327642 -0.139097 -0.055353 -0.059752  378.66   \n",
       "3      -0.190321 -1.175575  0.647376 -0.221929  0.062723  0.061458  123.50   \n",
       "4      -0.137458  0.141267 -0.206010  0.502292  0.219422  0.215153   69.99   \n",
       "...          ...       ...       ...       ...       ...       ...     ...   \n",
       "284802  1.014480 -0.509348  1.436807  0.250034  0.943651  0.823731    0.77   \n",
       "284803  0.012463 -1.016226 -0.606624 -0.395255  0.068472 -0.053527   24.79   \n",
       "284804 -0.037501  0.640134  0.265745 -0.087371  0.004455 -0.026561   67.88   \n",
       "284805 -0.163298  0.123205 -0.569159  0.546668  0.108821  0.104533   10.00   \n",
       "284806  0.376777  0.008797 -0.473649 -0.818267 -0.002415  0.013649  217.00   \n",
       "\n",
       "        Class  \n",
       "0           0  \n",
       "1           0  \n",
       "2           0  \n",
       "3           0  \n",
       "4           0  \n",
       "...       ...  \n",
       "284802      0  \n",
       "284803      0  \n",
       "284804      0  \n",
       "284805      0  \n",
       "284806      0  \n",
       "\n",
       "[284807 rows x 31 columns]"
      ]
     },
     "execution_count": 2,
     "metadata": {},
     "output_type": "execute_result"
    }
   ],
   "source": [
    "df = pd.read_csv(\"../input/creditcardfraud/creditcard.csv\")\n",
    "df"
   ]
  },
  {
   "cell_type": "code",
   "execution_count": 3,
   "id": "f537d3d2",
   "metadata": {
    "execution": {
     "iopub.execute_input": "2022-03-10T04:45:20.132564Z",
     "iopub.status.busy": "2022-03-10T04:45:20.131650Z",
     "iopub.status.idle": "2022-03-10T04:45:20.136706Z",
     "shell.execute_reply": "2022-03-10T04:45:20.137251Z",
     "shell.execute_reply.started": "2022-03-10T04:33:26.726796Z"
    },
    "papermill": {
     "duration": 0.028203,
     "end_time": "2022-03-10T04:45:20.137420",
     "exception": false,
     "start_time": "2022-03-10T04:45:20.109217",
     "status": "completed"
    },
    "tags": []
   },
   "outputs": [
    {
     "data": {
      "text/plain": [
       "(284807, 31)"
      ]
     },
     "execution_count": 3,
     "metadata": {},
     "output_type": "execute_result"
    }
   ],
   "source": [
    "df.shape"
   ]
  },
  {
   "cell_type": "code",
   "execution_count": 4,
   "id": "356e2973",
   "metadata": {
    "execution": {
     "iopub.execute_input": "2022-03-10T04:45:20.181328Z",
     "iopub.status.busy": "2022-03-10T04:45:20.180415Z",
     "iopub.status.idle": "2022-03-10T04:45:20.185619Z",
     "shell.execute_reply": "2022-03-10T04:45:20.186159Z",
     "shell.execute_reply.started": "2022-03-10T04:33:26.73789Z"
    },
    "papermill": {
     "duration": 0.028746,
     "end_time": "2022-03-10T04:45:20.186317",
     "exception": false,
     "start_time": "2022-03-10T04:45:20.157571",
     "status": "completed"
    },
    "tags": []
   },
   "outputs": [
    {
     "data": {
      "text/plain": [
       "Index(['Time', 'V1', 'V2', 'V3', 'V4', 'V5', 'V6', 'V7', 'V8', 'V9', 'V10',\n",
       "       'V11', 'V12', 'V13', 'V14', 'V15', 'V16', 'V17', 'V18', 'V19', 'V20',\n",
       "       'V21', 'V22', 'V23', 'V24', 'V25', 'V26', 'V27', 'V28', 'Amount',\n",
       "       'Class'],\n",
       "      dtype='object')"
      ]
     },
     "execution_count": 4,
     "metadata": {},
     "output_type": "execute_result"
    }
   ],
   "source": [
    "df.columns"
   ]
  },
  {
   "cell_type": "code",
   "execution_count": 5,
   "id": "9b1456f6",
   "metadata": {
    "execution": {
     "iopub.execute_input": "2022-03-10T04:45:20.232322Z",
     "iopub.status.busy": "2022-03-10T04:45:20.231434Z",
     "iopub.status.idle": "2022-03-10T04:45:20.272589Z",
     "shell.execute_reply": "2022-03-10T04:45:20.273017Z",
     "shell.execute_reply.started": "2022-03-10T04:33:26.751029Z"
    },
    "papermill": {
     "duration": 0.066577,
     "end_time": "2022-03-10T04:45:20.273235",
     "exception": false,
     "start_time": "2022-03-10T04:45:20.206658",
     "status": "completed"
    },
    "tags": []
   },
   "outputs": [
    {
     "name": "stdout",
     "output_type": "stream",
     "text": [
      "<class 'pandas.core.frame.DataFrame'>\n",
      "RangeIndex: 284807 entries, 0 to 284806\n",
      "Data columns (total 31 columns):\n",
      " #   Column  Non-Null Count   Dtype  \n",
      "---  ------  --------------   -----  \n",
      " 0   Time    284807 non-null  float64\n",
      " 1   V1      284807 non-null  float64\n",
      " 2   V2      284807 non-null  float64\n",
      " 3   V3      284807 non-null  float64\n",
      " 4   V4      284807 non-null  float64\n",
      " 5   V5      284807 non-null  float64\n",
      " 6   V6      284807 non-null  float64\n",
      " 7   V7      284807 non-null  float64\n",
      " 8   V8      284807 non-null  float64\n",
      " 9   V9      284807 non-null  float64\n",
      " 10  V10     284807 non-null  float64\n",
      " 11  V11     284807 non-null  float64\n",
      " 12  V12     284807 non-null  float64\n",
      " 13  V13     284807 non-null  float64\n",
      " 14  V14     284807 non-null  float64\n",
      " 15  V15     284807 non-null  float64\n",
      " 16  V16     284807 non-null  float64\n",
      " 17  V17     284807 non-null  float64\n",
      " 18  V18     284807 non-null  float64\n",
      " 19  V19     284807 non-null  float64\n",
      " 20  V20     284807 non-null  float64\n",
      " 21  V21     284807 non-null  float64\n",
      " 22  V22     284807 non-null  float64\n",
      " 23  V23     284807 non-null  float64\n",
      " 24  V24     284807 non-null  float64\n",
      " 25  V25     284807 non-null  float64\n",
      " 26  V26     284807 non-null  float64\n",
      " 27  V27     284807 non-null  float64\n",
      " 28  V28     284807 non-null  float64\n",
      " 29  Amount  284807 non-null  float64\n",
      " 30  Class   284807 non-null  int64  \n",
      "dtypes: float64(30), int64(1)\n",
      "memory usage: 67.4 MB\n"
     ]
    }
   ],
   "source": [
    "df.info()"
   ]
  },
  {
   "cell_type": "code",
   "execution_count": 6,
   "id": "63e4c316",
   "metadata": {
    "execution": {
     "iopub.execute_input": "2022-03-10T04:45:20.319773Z",
     "iopub.status.busy": "2022-03-10T04:45:20.319112Z",
     "iopub.status.idle": "2022-03-10T04:45:20.341990Z",
     "shell.execute_reply": "2022-03-10T04:45:20.341493Z",
     "shell.execute_reply.started": "2022-03-10T04:33:26.808551Z"
    },
    "papermill": {
     "duration": 0.047892,
     "end_time": "2022-03-10T04:45:20.342169",
     "exception": false,
     "start_time": "2022-03-10T04:45:20.294277",
     "status": "completed"
    },
    "tags": []
   },
   "outputs": [
    {
     "data": {
      "text/plain": [
       "Time      0\n",
       "V1        0\n",
       "V2        0\n",
       "V3        0\n",
       "V4        0\n",
       "V5        0\n",
       "V6        0\n",
       "V7        0\n",
       "V8        0\n",
       "V9        0\n",
       "V10       0\n",
       "V11       0\n",
       "V12       0\n",
       "V13       0\n",
       "V14       0\n",
       "V15       0\n",
       "V16       0\n",
       "V17       0\n",
       "V18       0\n",
       "V19       0\n",
       "V20       0\n",
       "V21       0\n",
       "V22       0\n",
       "V23       0\n",
       "V24       0\n",
       "V25       0\n",
       "V26       0\n",
       "V27       0\n",
       "V28       0\n",
       "Amount    0\n",
       "Class     0\n",
       "dtype: int64"
      ]
     },
     "execution_count": 6,
     "metadata": {},
     "output_type": "execute_result"
    }
   ],
   "source": [
    "df.isna().sum()"
   ]
  },
  {
   "cell_type": "code",
   "execution_count": 7,
   "id": "7eb95cf3",
   "metadata": {
    "execution": {
     "iopub.execute_input": "2022-03-10T04:45:20.390914Z",
     "iopub.status.busy": "2022-03-10T04:45:20.390095Z",
     "iopub.status.idle": "2022-03-10T04:45:20.394009Z",
     "shell.execute_reply": "2022-03-10T04:45:20.393566Z",
     "shell.execute_reply.started": "2022-03-10T04:33:26.837804Z"
    },
    "papermill": {
     "duration": 0.030683,
     "end_time": "2022-03-10T04:45:20.394164",
     "exception": false,
     "start_time": "2022-03-10T04:45:20.363481",
     "status": "completed"
    },
    "tags": []
   },
   "outputs": [
    {
     "data": {
      "text/plain": [
       "pandas.core.series.Series"
      ]
     },
     "execution_count": 7,
     "metadata": {},
     "output_type": "execute_result"
    }
   ],
   "source": [
    "fraud = df.Class\n",
    "type(fraud)"
   ]
  },
  {
   "cell_type": "code",
   "execution_count": 8,
   "id": "840e707b",
   "metadata": {
    "execution": {
     "iopub.execute_input": "2022-03-10T04:45:20.441509Z",
     "iopub.status.busy": "2022-03-10T04:45:20.440769Z",
     "iopub.status.idle": "2022-03-10T04:45:21.272871Z",
     "shell.execute_reply": "2022-03-10T04:45:21.272367Z",
     "shell.execute_reply.started": "2022-03-10T04:33:26.847011Z"
    },
    "papermill": {
     "duration": 0.856761,
     "end_time": "2022-03-10T04:45:21.273008",
     "exception": false,
     "start_time": "2022-03-10T04:45:20.416247",
     "status": "completed"
    },
    "tags": []
   },
   "outputs": [],
   "source": [
    "# Number of fraud transactions \n",
    "fraud_count = 0\n",
    "for i in range(1,len(fraud)):\n",
    "    if fraud[i] == 1:\n",
    "        fraud_count += 1"
   ]
  },
  {
   "cell_type": "code",
   "execution_count": 9,
   "id": "4198b934",
   "metadata": {
    "execution": {
     "iopub.execute_input": "2022-03-10T04:45:21.321112Z",
     "iopub.status.busy": "2022-03-10T04:45:21.320453Z",
     "iopub.status.idle": "2022-03-10T04:45:21.323153Z",
     "shell.execute_reply": "2022-03-10T04:45:21.323585Z",
     "shell.execute_reply.started": "2022-03-10T04:33:27.740355Z"
    },
    "papermill": {
     "duration": 0.029176,
     "end_time": "2022-03-10T04:45:21.323755",
     "exception": false,
     "start_time": "2022-03-10T04:45:21.294579",
     "status": "completed"
    },
    "tags": []
   },
   "outputs": [
    {
     "data": {
      "text/plain": [
       "492"
      ]
     },
     "execution_count": 9,
     "metadata": {},
     "output_type": "execute_result"
    }
   ],
   "source": [
    "fraud_count"
   ]
  },
  {
   "cell_type": "code",
   "execution_count": 10,
   "id": "82a5b978",
   "metadata": {
    "execution": {
     "iopub.execute_input": "2022-03-10T04:45:21.390424Z",
     "iopub.status.busy": "2022-03-10T04:45:21.385365Z",
     "iopub.status.idle": "2022-03-10T04:45:22.223630Z",
     "shell.execute_reply": "2022-03-10T04:45:22.223078Z",
     "shell.execute_reply.started": "2022-03-10T04:33:27.748808Z"
    },
    "papermill": {
     "duration": 0.878104,
     "end_time": "2022-03-10T04:45:22.223764",
     "exception": false,
     "start_time": "2022-03-10T04:45:21.345660",
     "status": "completed"
    },
    "tags": []
   },
   "outputs": [],
   "source": [
    "genuine_trans = 0\n",
    "for i in range(1,len(fraud)):\n",
    "    if fraud[i] == 0:\n",
    "        genuine_trans += 1"
   ]
  },
  {
   "cell_type": "code",
   "execution_count": 11,
   "id": "e5b8aabe",
   "metadata": {
    "execution": {
     "iopub.execute_input": "2022-03-10T04:45:22.272997Z",
     "iopub.status.busy": "2022-03-10T04:45:22.272238Z",
     "iopub.status.idle": "2022-03-10T04:45:22.275306Z",
     "shell.execute_reply": "2022-03-10T04:45:22.275732Z",
     "shell.execute_reply.started": "2022-03-10T04:33:28.679647Z"
    },
    "papermill": {
     "duration": 0.030042,
     "end_time": "2022-03-10T04:45:22.275903",
     "exception": false,
     "start_time": "2022-03-10T04:45:22.245861",
     "status": "completed"
    },
    "tags": []
   },
   "outputs": [
    {
     "data": {
      "text/plain": [
       "284314"
      ]
     },
     "execution_count": 11,
     "metadata": {},
     "output_type": "execute_result"
    }
   ],
   "source": [
    "genuine_trans"
   ]
  },
  {
   "cell_type": "code",
   "execution_count": 12,
   "id": "0e0f9b52",
   "metadata": {
    "execution": {
     "iopub.execute_input": "2022-03-10T04:45:22.325572Z",
     "iopub.status.busy": "2022-03-10T04:45:22.324362Z",
     "iopub.status.idle": "2022-03-10T04:45:23.490024Z",
     "shell.execute_reply": "2022-03-10T04:45:23.490498Z",
     "shell.execute_reply.started": "2022-03-10T04:33:28.688486Z"
    },
    "papermill": {
     "duration": 1.192879,
     "end_time": "2022-03-10T04:45:23.490678",
     "exception": false,
     "start_time": "2022-03-10T04:45:22.297799",
     "status": "completed"
    },
    "tags": []
   },
   "outputs": [
    {
     "data": {
      "text/plain": [
       "<AxesSubplot:>"
      ]
     },
     "execution_count": 12,
     "metadata": {},
     "output_type": "execute_result"
    },
    {
     "data": {
      "image/png": "[encoded data removed]",
      "text/plain": [
       "<Figure size 432x288 with 2 Axes>"
      ]
     },
     "metadata": {
      "needs_background": "light"
     },
     "output_type": "display_data"
    }
   ],
   "source": [
    "# Corelation matrix\n",
    "corr_matrix = df.corr()\n",
    "sns.heatmap(corr_matrix)"
   ]
  },
  {
   "cell_type": "markdown",
   "id": "1a364977",
   "metadata": {
    "papermill": {
     "duration": 0.023008,
     "end_time": "2022-03-10T04:45:23.537415",
     "exception": false,
     "start_time": "2022-03-10T04:45:23.514407",
     "status": "completed"
    },
    "tags": []
   },
   "source": [
    "## Model Building"
   ]
  },
  {
   "cell_type": "markdown",
   "id": "7b00fe61",
   "metadata": {
    "papermill": {
     "duration": 0.022697,
     "end_time": "2022-03-10T04:45:23.583410",
     "exception": false,
     "start_time": "2022-03-10T04:45:23.560713",
     "status": "completed"
    },
    "tags": []
   },
   "source": [
    "#### Train and Test Split"
   ]
  },
  {
   "cell_type": "code",
   "execution_count": 13,
   "id": "e5ada1f6",
   "metadata": {
    "execution": {
     "iopub.execute_input": "2022-03-10T04:45:23.659160Z",
     "iopub.status.busy": "2022-03-10T04:45:23.658406Z",
     "iopub.status.idle": "2022-03-10T04:45:23.660862Z",
     "shell.execute_reply": "2022-03-10T04:45:23.661337Z",
     "shell.execute_reply.started": "2022-03-10T04:33:29.871392Z"
    },
    "papermill": {
     "duration": 0.054104,
     "end_time": "2022-03-10T04:45:23.661501",
     "exception": false,
     "start_time": "2022-03-10T04:45:23.607397",
     "status": "completed"
    },
    "tags": []
   },
   "outputs": [],
   "source": [
    "X = df.drop([\"Class\"], axis = 1)"
   ]
  },
  {
   "cell_type": "code",
   "execution_count": 14,
   "id": "ea9bd8a9",
   "metadata": {
    "execution": {
     "iopub.execute_input": "2022-03-10T04:45:23.711865Z",
     "iopub.status.busy": "2022-03-10T04:45:23.710981Z",
     "iopub.status.idle": "2022-03-10T04:45:23.714388Z",
     "shell.execute_reply": "2022-03-10T04:45:23.714768Z",
     "shell.execute_reply.started": "2022-03-10T04:33:29.902518Z"
    },
    "papermill": {
     "duration": 0.030446,
     "end_time": "2022-03-10T04:45:23.714936",
     "exception": false,
     "start_time": "2022-03-10T04:45:23.684490",
     "status": "completed"
    },
    "tags": []
   },
   "outputs": [],
   "source": [
    "y = df[\"Class\"]"
   ]
  },
  {
   "cell_type": "code",
   "execution_count": 15,
   "id": "a5b48b68",
   "metadata": {
    "execution": {
     "iopub.execute_input": "2022-03-10T04:45:23.769118Z",
     "iopub.status.busy": "2022-03-10T04:45:23.768437Z",
     "iopub.status.idle": "2022-03-10T04:45:23.865208Z",
     "shell.execute_reply": "2022-03-10T04:45:23.864683Z",
     "shell.execute_reply.started": "2022-03-10T04:33:29.913705Z"
    },
    "papermill": {
     "duration": 0.127005,
     "end_time": "2022-03-10T04:45:23.865353",
     "exception": false,
     "start_time": "2022-03-10T04:45:23.738348",
     "status": "completed"
    },
    "tags": []
   },
   "outputs": [],
   "source": [
    "# Split the Train and Test Data\n",
    "\n",
    "X_train, X_test, y_train, y_test = train_test_split(X, y, test_size=0.25, random_state = 42)"
   ]
  },
  {
   "cell_type": "code",
   "execution_count": 16,
   "id": "ad1ff895",
   "metadata": {
    "execution": {
     "iopub.execute_input": "2022-03-10T04:45:23.920529Z",
     "iopub.status.busy": "2022-03-10T04:45:23.919907Z",
     "iopub.status.idle": "2022-03-10T04:45:23.923259Z",
     "shell.execute_reply": "2022-03-10T04:45:23.923893Z",
     "shell.execute_reply.started": "2022-03-10T04:33:30.037647Z"
    },
    "papermill": {
     "duration": 0.032337,
     "end_time": "2022-03-10T04:45:23.924123",
     "exception": false,
     "start_time": "2022-03-10T04:45:23.891786",
     "status": "completed"
    },
    "tags": []
   },
   "outputs": [
    {
     "name": "stdout",
     "output_type": "stream",
     "text": [
      "(213605, 30)\n",
      "(71202, 30)\n",
      "(213605,)\n",
      "(71202,)\n"
     ]
    }
   ],
   "source": [
    "print(X_train.shape)\n",
    "print(X_test.shape)\n",
    "print(y_train.shape)\n",
    "print(y_test.shape)"
   ]
  },
  {
   "cell_type": "code",
   "execution_count": 17,
   "id": "8077085b",
   "metadata": {
    "execution": {
     "iopub.execute_input": "2022-03-10T04:45:23.975745Z",
     "iopub.status.busy": "2022-03-10T04:45:23.975146Z",
     "iopub.status.idle": "2022-03-10T04:45:23.978207Z",
     "shell.execute_reply": "2022-03-10T04:45:23.978653Z",
     "shell.execute_reply.started": "2022-03-10T04:33:30.045919Z"
    },
    "papermill": {
     "duration": 0.03012,
     "end_time": "2022-03-10T04:45:23.978841",
     "exception": false,
     "start_time": "2022-03-10T04:45:23.948721",
     "status": "completed"
    },
    "tags": []
   },
   "outputs": [],
   "source": [
    "logisticRegr = LogisticRegression()"
   ]
  },
  {
   "cell_type": "code",
   "execution_count": 18,
   "id": "03a2e6be",
   "metadata": {
    "execution": {
     "iopub.execute_input": "2022-03-10T04:45:24.030799Z",
     "iopub.status.busy": "2022-03-10T04:45:24.030219Z",
     "iopub.status.idle": "2022-03-10T04:45:27.916059Z",
     "shell.execute_reply": "2022-03-10T04:45:27.915248Z",
     "shell.execute_reply.started": "2022-03-10T04:33:30.057514Z"
    },
    "papermill": {
     "duration": 3.913474,
     "end_time": "2022-03-10T04:45:27.916283",
     "exception": false,
     "start_time": "2022-03-10T04:45:24.002809",
     "status": "completed"
    },
    "tags": []
   },
   "outputs": [
    {
     "name": "stderr",
     "output_type": "stream",
     "text": [
      "/opt/conda/lib/python3.7/site-packages/sklearn/linear_model/_logistic.py:818: ConvergenceWarning: lbfgs failed to converge (status=1):\n",
      "STOP: TOTAL NO. of ITERATIONS REACHED LIMIT.\n",
      "\n",
      "Increase the number of iterations (max_iter) or scale the data as shown in:\n",
      "    https://scikit-learn.org/stable/modules/preprocessing.html\n",
      "Please also refer to the documentation for alternative solver options:\n",
      "    https://scikit-learn.org/stable/modules/linear_model.html#logistic-regression\n",
      "  extra_warning_msg=_LOGISTIC_SOLVER_CONVERGENCE_MSG,\n"
     ]
    },
    {
     "data": {
      "text/plain": [
       "LogisticRegression()"
      ]
     },
     "execution_count": 18,
     "metadata": {},
     "output_type": "execute_result"
    }
   ],
   "source": [
    "logisticRegr.fit(X_train, y_train)"
   ]
  },
  {
   "cell_type": "code",
   "execution_count": 19,
   "id": "6a3eebc6",
   "metadata": {
    "execution": {
     "iopub.execute_input": "2022-03-10T04:45:28.027392Z",
     "iopub.status.busy": "2022-03-10T04:45:28.026354Z",
     "iopub.status.idle": "2022-03-10T04:45:28.048992Z",
     "shell.execute_reply": "2022-03-10T04:45:28.049825Z",
     "shell.execute_reply.started": "2022-03-10T04:33:34.268183Z"
    },
    "papermill": {
     "duration": 0.081249,
     "end_time": "2022-03-10T04:45:28.050105",
     "exception": false,
     "start_time": "2022-03-10T04:45:27.968856",
     "status": "completed"
    },
    "tags": []
   },
   "outputs": [
    {
     "name": "stdout",
     "output_type": "stream",
     "text": [
      "[1 0 0 ... 0 0 0]\n",
      "0.9988343024072357\n"
     ]
    }
   ],
   "source": [
    "y_pred = logisticRegr.predict(X_test)\n",
    "accuracy= logisticRegr.score(X_test,y_test)\n",
    "print(y_pred)\n",
    "print(accuracy)"
   ]
  },
  {
   "cell_type": "code",
   "execution_count": 20,
   "id": "4b8e154b",
   "metadata": {
    "execution": {
     "iopub.execute_input": "2022-03-10T04:45:28.154357Z",
     "iopub.status.busy": "2022-03-10T04:45:28.153389Z",
     "iopub.status.idle": "2022-03-10T04:45:28.156040Z",
     "shell.execute_reply": "2022-03-10T04:45:28.156719Z",
     "shell.execute_reply.started": "2022-03-10T04:37:10.397425Z"
    },
    "papermill": {
     "duration": 0.057453,
     "end_time": "2022-03-10T04:45:28.156890",
     "exception": false,
     "start_time": "2022-03-10T04:45:28.099437",
     "status": "completed"
    },
    "tags": []
   },
   "outputs": [],
   "source": [
    "from sklearn.metrics import plot_confusion_matrix"
   ]
  },
  {
   "cell_type": "code",
   "execution_count": 21,
   "id": "d6bc6e48",
   "metadata": {
    "execution": {
     "iopub.execute_input": "2022-03-10T04:45:28.208167Z",
     "iopub.status.busy": "2022-03-10T04:45:28.207570Z",
     "iopub.status.idle": "2022-03-10T04:45:28.485394Z",
     "shell.execute_reply": "2022-03-10T04:45:28.485868Z",
     "shell.execute_reply.started": "2022-03-10T04:37:13.029793Z"
    },
    "papermill": {
     "duration": 0.304898,
     "end_time": "2022-03-10T04:45:28.486033",
     "exception": false,
     "start_time": "2022-03-10T04:45:28.181135",
     "status": "completed"
    },
    "tags": []
   },
   "outputs": [
    {
     "name": "stdout",
     "output_type": "stream",
     "text": [
      "[[71057    32]\n",
      " [   51    62]]\n"
     ]
    },
    {
     "name": "stderr",
     "output_type": "stream",
     "text": [
      "/opt/conda/lib/python3.7/site-packages/sklearn/utils/deprecation.py:87: FutureWarning: Function plot_confusion_matrix is deprecated; Function `plot_confusion_matrix` is deprecated in 1.0 and will be removed in 1.2. Use one of the class methods: ConfusionMatrixDisplay.from_predictions or ConfusionMatrixDisplay.from_estimator.\n",
      "  warnings.warn(msg, category=FutureWarning)\n"
     ]
    },
    {
     "data": {
      "image/png": "[encoded data removed]",
      "text/plain": [
       "<Figure size 432x288 with 2 Axes>"
      ]
     },
     "metadata": {
      "needs_background": "light"
     },
     "output_type": "display_data"
    }
   ],
   "source": [
    "conf_mat = metrics.confusion_matrix(y_test, y_pred)\n",
    "print(conf_mat)\n",
    "plot_confusion_matrix(logisticRegr, X_test, y_test)  \n",
    "plt.show()"
   ]
  },
  {
   "cell_type": "code",
   "execution_count": 22,
   "id": "2385a7f7",
   "metadata": {
    "execution": {
     "iopub.execute_input": "2022-03-10T04:45:28.542145Z",
     "iopub.status.busy": "2022-03-10T04:45:28.541528Z",
     "iopub.status.idle": "2022-03-10T04:45:28.544636Z",
     "shell.execute_reply": "2022-03-10T04:45:28.544083Z",
     "shell.execute_reply.started": "2022-03-10T04:38:29.372347Z"
    },
    "papermill": {
     "duration": 0.032996,
     "end_time": "2022-03-10T04:45:28.544763",
     "exception": false,
     "start_time": "2022-03-10T04:45:28.511767",
     "status": "completed"
    },
    "tags": []
   },
   "outputs": [
    {
     "name": "stdout",
     "output_type": "stream",
     "text": [
      "The accuracy of the model =  99.88 %\n"
     ]
    }
   ],
   "source": [
    "print(\"The accuracy of the model = \", round(accuracy*100,2), \"%\")"
   ]
  },
  {
   "cell_type": "code",
   "execution_count": 23,
   "id": "30b8796a",
   "metadata": {
    "execution": {
     "iopub.execute_input": "2022-03-10T04:45:28.599657Z",
     "iopub.status.busy": "2022-03-10T04:45:28.599030Z",
     "iopub.status.idle": "2022-03-10T04:45:28.664279Z",
     "shell.execute_reply": "2022-03-10T04:45:28.664808Z",
     "shell.execute_reply.started": "2022-03-10T04:44:47.208047Z"
    },
    "papermill": {
     "duration": 0.094163,
     "end_time": "2022-03-10T04:45:28.664982",
     "exception": false,
     "start_time": "2022-03-10T04:45:28.570819",
     "status": "completed"
    },
    "tags": []
   },
   "outputs": [],
   "source": [
    "output = pd.DataFrame({\n",
    "        \"Index\": y_test,\n",
    "        \"Class\": y_pred\n",
    "    })\n",
    "output.to_csv('output.csv', index=False)"
   ]
  }
 ],
 "metadata": {
  "kernelspec": {
   "display_name": "Python 3",
   "language": "python",
   "name": "python3"
  },
  "language_info": {
   "codemirror_mode": {
    "name": "ipython",
    "version": 3
   },
   "file_extension": ".py",
   "mimetype": "text/x-python",
   "name": "python",
   "nbconvert_exporter": "python",
   "pygments_lexer": "ipython3",
   "version": "3.9.5"
  },
  "papermill": {
   "default_parameters": {},
   "duration": 23.999657,
   "end_time": "2022-03-10T04:45:29.401309",
   "environment_variables": {},
   "exception": null,
   "input_path": "__notebook__.ipynb",
   "output_path": "__notebook__.ipynb",
   "parameters": {},
   "start_time": "2022-03-10T04:45:05.401652",
   "version": "2.3.3"
  }
 },
 "nbformat": 4,
 "nbformat_minor": 5
}
